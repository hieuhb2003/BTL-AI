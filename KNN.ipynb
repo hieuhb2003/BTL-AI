{
 "cells": [
  {
   "cell_type": "code",
   "execution_count": 8,
   "metadata": {
    "id": "VhG_Z5hHEzns"
   },
   "outputs": [],
   "source": [
    "import csv\n",
    "import numpy as np\n",
    "import math"
   ]
  },
  {
   "cell_type": "code",
   "execution_count": 105,
   "metadata": {
    "executionInfo": {
     "elapsed": 528,
     "status": "ok",
     "timestamp": 1699525657944,
     "user": {
      "displayName": "Ngọc Toàn",
      "userId": "16761582742211695380"
     },
     "user_tz": -420
    },
    "id": "fyr3zcVCFKyY"
   },
   "outputs": [],
   "source": [
    "file = open(\"diabetes.csv\", \"r\")\n",
    "dataset = csv.reader(file)\n",
    "dataset = np.array(list(dataset))\n",
    "dataset = np.delete(dataset,0,0)\n",
    "file.close()\n",
    "\n",
    "trainingData = dataset[:500]\n",
    "testData = dataset[500:]"
   ]
  },
  {
   "cell_type": "code",
   "execution_count": 106,
   "metadata": {
    "colab": {
     "base_uri": "https://localhost:8080/"
    },
    "executionInfo": {
     "elapsed": 336,
     "status": "ok",
     "timestamp": 1699517056208,
     "user": {
      "displayName": "hieu nguyen",
      "userId": "05257336790791346897"
     },
     "user_tz": -420
    },
    "id": "3t3c4K4CFK0d",
    "outputId": "08c0a9d6-eb55-4b8b-8375-74e787d482dc"
   },
   "outputs": [
    {
     "name": "stdout",
     "output_type": "stream",
     "text": [
      "[['2' '117' '90' ... '0.313' '21' '0']\n",
      " ['3' '84' '72' ... '0.267' '28' '0']\n",
      " ['6' '0' '68' ... '0.727' '41' '1']\n",
      " ...\n",
      " ['5' '121' '72' ... '0.245' '30' '0']\n",
      " ['1' '126' '60' ... '0.349' '47' '1']\n",
      " ['1' '93' '70' ... '0.315' '23' '0']]\n"
     ]
    }
   ],
   "source": [
    "print(testData)"
   ]
  },
  {
   "cell_type": "code",
   "execution_count": 107,
   "metadata": {
    "colab": {
     "base_uri": "https://localhost:8080/"
    },
    "executionInfo": {
     "elapsed": 5,
     "status": "ok",
     "timestamp": 1699521348203,
     "user": {
      "displayName": "hieu nguyen",
      "userId": "05257336790791346897"
     },
     "user_tz": -420
    },
    "id": "Cr3gatWOXYps",
    "outputId": "cc0fa099-430a-4eba-cb5e-be01232ce0df"
   },
   "outputs": [
    {
     "name": "stdout",
     "output_type": "stream",
     "text": [
      "[['6' '148' '72' ... '0.627' '50' '1']\n",
      " ['1' '85' '66' ... '0.351' '31' '0']\n",
      " ['8' '183' '64' ... '0.672' '32' '1']\n",
      " ...\n",
      " ['2' '81' '72' ... '0.547' '25' '0']\n",
      " ['7' '195' '70' ... '0.163' '55' '1']\n",
      " ['6' '154' '74' ... '0.839' '39' '0']]\n"
     ]
    }
   ],
   "source": [
    "print(trainingData)"
   ]
  },
  {
   "cell_type": "code",
   "execution_count": 108,
   "metadata": {
    "id": "BEV7NcbtFK2c"
   },
   "outputs": [],
   "source": [
    "def computeDistance(data1,data2):\n",
    "  res = 0;\n",
    "  for i in range(8):\n",
    "    res += ( float(data1[i]) - float(data2[i])  )**2\n",
    "  return math.sqrt(res)\n"
   ]
  },
  {
   "cell_type": "code",
   "execution_count": 109,
   "metadata": {
    "id": "9VDqGqpuFK43"
   },
   "outputs": [],
   "source": [
    "def computeKNN(trainingData,point,k):\n",
    "  distance = []\n",
    "  for data in trainingData:\n",
    "    #khai bao dictionary\n",
    "    label_distance = {\n",
    "        \"label\" : data[-1],\n",
    "        \"dis\": computeDistance(data,point)\n",
    "    }\n",
    "    distance.append(label_distance)\n",
    "  distance.sort(key = lambda x: x[\"dis\"])\n",
    "  label = []\n",
    "  for element in distance:\n",
    "    label.append(element[\"label\"])\n",
    "  return label[:k]\n"
   ]
  },
  {
   "cell_type": "code",
   "execution_count": 110,
   "metadata": {
    "id": "9KjoMLkVFK8t"
   },
   "outputs": [],
   "source": [
    "def predict(label):\n",
    "  num1 = 0\n",
    "  num0 = 0\n",
    "  for element in label:\n",
    "    if int(element) == 1:\n",
    "      num1 = num1 + 1\n",
    "    else:\n",
    "      num0 = num0 + 1\n",
    "  if num1 > num0 :\n",
    "    return 1\n",
    "  else:\n",
    "    return 0"
   ]
  },
  {
   "cell_type": "code",
   "execution_count": 111,
   "metadata": {},
   "outputs": [],
   "source": [
    "def evaluate(x,y):\n",
    "    tp = 0\n",
    "    fn = 0\n",
    "    fp = 0\n",
    "    tn = 0\n",
    "    if (x==1 and y == 1):\n",
    "        tp = 1\n",
    "    elif (x == 1 and y == 0):\n",
    "        fn = 1\n",
    "    elif (y == 1):\n",
    "        fp = 1\n",
    "    else:\n",
    "        tn = 1\n",
    "    return [tp,fn,fp,tn]"
   ]
  },
  {
   "cell_type": "code",
   "execution_count": 119,
   "metadata": {
    "colab": {
     "base_uri": "https://localhost:8080/"
    },
    "executionInfo": {
     "elapsed": 417,
     "status": "ok",
     "timestamp": 1699525662544,
     "user": {
      "displayName": "Ngọc Toàn",
      "userId": "16761582742211695380"
     },
     "user_tz": -420
    },
    "id": "KOODWhgXFLAF",
    "outputId": "8379d8c2-c854-43a7-e904-d28f170eb9b6"
   },
   "outputs": [
    {
     "name": "stdout",
     "output_type": "stream",
     "text": [
      "TP = 49\n",
      "FN = 37\n",
      "FP = 39\n",
      "TN = 143\n",
      "Accuracy: 72.00%\n",
      "Precision: 55.68%\n",
      "Recall: 56.98%\n"
     ]
    }
   ],
   "source": [
    "k = 5\n",
    "TP = 0\n",
    "FN = 0  \n",
    "FP = 0  \n",
    "TN = 0  \n",
    "\n",
    "for element in testData:\n",
    "    label = computeKNN(trainingData, element, k)\n",
    "    #print(\"True = \", element[-1], \"Predict = \", predict(label))\n",
    "    tp, fn, fp, tn = evaluate(int(element[-1]), predict(label))  \n",
    "    TP += tp\n",
    "    FN += fn\n",
    "    FP += fp\n",
    "    TN += tn\n",
    "data_size = len(testData)\n",
    "#print(data_size)\n",
    "print(\"TP =\", TP) # True Positive: người bị bệnh được dự đoán là bị bệnh\n",
    "print(\"FN =\", FN) # False Negative: người bị bệnh được dự đoán là không có bệnh\n",
    "print(\"FP =\", FP) # False Positive: người không bị bệnh được dự đoán là bị bệnh\n",
    "print(\"TN =\", TN) # True Negative: người không bị bệnh được dự đoán là không bị bệnh\n",
    "\n",
    "accuracy =round(float( (TP + TN)/data_size),2)\n",
    "precision = float(TP/(TP+FP)) # tính tỉ lệ số người thực sự bị bệnh trong những người được dự đoán bị bệnh\n",
    "recall = float(TP/(TP+FN)) #tính tỉ lệ dự đoán chính xác trong những người bị bệnh\n",
    "\n",
    "print(f\"Accuracy: {accuracy*100:.2f}%\")\n",
    "print(f\"Precision: {precision*100:.2f}%\")\n",
    "print(f\"Recall: {recall*100:.2f}%\")"
   ]
  },
  {
   "cell_type": "code",
   "execution_count": null,
   "metadata": {},
   "outputs": [],
   "source": []
  }
 ],
 "metadata": {
  "colab": {
   "provenance": []
  },
  "kernelspec": {
   "display_name": "Python 3 (ipykernel)",
   "language": "python",
   "name": "python3"
  },
  "language_info": {
   "codemirror_mode": {
    "name": "ipython",
    "version": 3
   },
   "file_extension": ".py",
   "mimetype": "text/x-python",
   "name": "python",
   "nbconvert_exporter": "python",
   "pygments_lexer": "ipython3",
   "version": "3.11.4"
  }
 },
 "nbformat": 4,
 "nbformat_minor": 1
}
