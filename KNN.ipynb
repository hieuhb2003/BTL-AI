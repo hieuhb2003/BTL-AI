{
 "cells": [
  {
   "cell_type": "code",
   "execution_count": 2,
   "metadata": {
    "id": "VhG_Z5hHEzns"
   },
   "outputs": [],
   "source": [
    "import csv\n",
    "import numpy as np\n",
    "import math"
   ]
  },
  {
   "cell_type": "code",
   "execution_count": null,
   "metadata": {},
   "outputs": [],
   "source": [
    "print(\"hihi\")"
   ]
  },
  {
   "cell_type": "code",
   "execution_count": 3,
   "metadata": {
    "executionInfo": {
     "elapsed": 528,
     "status": "ok",
     "timestamp": 1699525657944,
     "user": {
      "displayName": "Ngọc Toàn",
      "userId": "16761582742211695380"
     },
     "user_tz": -420
    },
    "id": "fyr3zcVCFKyY"
   },
   "outputs": [],
   "source": [
    "file = open(\"diabetes.csv\", \"r\")\n",
    "dataset = csv.reader(file)\n",
    "dataset = np.array(list(dataset))\n",
    "dataset = np.delete(dataset,0,0)\n",
    "file.close()\n",
    "\n",
    "trainingData = dataset[:538]\n",
    "testData = dataset[538:]"
   ]
  },
  {
   "cell_type": "code",
   "execution_count": 4,
   "metadata": {
    "colab": {
     "base_uri": "https://localhost:8080/"
    },
    "executionInfo": {
     "elapsed": 336,
     "status": "ok",
     "timestamp": 1699517056208,
     "user": {
      "displayName": "hieu nguyen",
      "userId": "05257336790791346897"
     },
     "user_tz": -420
    },
    "id": "3t3c4K4CFK0d",
    "outputId": "08c0a9d6-eb55-4b8b-8375-74e787d482dc"
   },
   "outputs": [
    {
     "name": "stdout",
     "output_type": "stream",
     "text": [
      "[['0' '127' '80' ... '0.804' '23' '0']\n",
      " ['3' '129' '92' ... '0.968' '32' '1']\n",
      " ['8' '100' '74' ... '0.661' '43' '1']\n",
      " ...\n",
      " ['5' '121' '72' ... '0.245' '30' '0']\n",
      " ['1' '126' '60' ... '0.349' '47' '1']\n",
      " ['1' '93' '70' ... '0.315' '23' '0']]\n"
     ]
    }
   ],
   "source": [
    "#print(testData)"
   ]
  },
  {
   "cell_type": "code",
   "execution_count": 5,
   "metadata": {
    "colab": {
     "base_uri": "https://localhost:8080/"
    },
    "executionInfo": {
     "elapsed": 5,
     "status": "ok",
     "timestamp": 1699521348203,
     "user": {
      "displayName": "hieu nguyen",
      "userId": "05257336790791346897"
     },
     "user_tz": -420
    },
    "id": "Cr3gatWOXYps",
    "outputId": "cc0fa099-430a-4eba-cb5e-be01232ce0df"
   },
   "outputs": [
    {
     "name": "stdout",
     "output_type": "stream",
     "text": [
      "[['6' '148' '72' ... '0.627' '50' '1']\n",
      " ['1' '85' '66' ... '0.351' '31' '0']\n",
      " ['8' '183' '64' ... '0.672' '32' '1']\n",
      " ...\n",
      " ['4' '132' '0' ... '0.302' '23' '1']\n",
      " ['0' '105' '90' ... '0.197' '46' '0']\n",
      " ['0' '57' '60' ... '0.735' '67' '0']]\n"
     ]
    }
   ],
   "source": [
    "#print(trainingData)"
   ]
  },
  {
   "cell_type": "code",
   "execution_count": 6,
   "metadata": {
    "id": "BEV7NcbtFK2c"
   },
   "outputs": [],
   "source": [
    "def computeDistance(data1,data2):\n",
    "  res = 0;\n",
    "  for i in range(8):\n",
    "    res += ( float(data1[i]) - float(data2[i])  )**2\n",
    "  return math.sqrt(res)\n"
   ]
  },
  {
   "cell_type": "code",
   "execution_count": 7,
   "metadata": {
    "id": "9VDqGqpuFK43"
   },
   "outputs": [],
   "source": [
    "def computeKNN(trainingData,point,k):\n",
    "  distance = []\n",
    "  for data in trainingData:\n",
    "    #khai bao dictionary\n",
    "    label_distance = {\n",
    "        \"label\" : data[-1],\n",
    "        \"dis\": computeDistance(data,point)\n",
    "    }\n",
    "    distance.append(label_distance)\n",
    "  distance.sort(key = lambda x: x[\"dis\"])\n",
    "  label = []\n",
    "  for element in distance:\n",
    "    label.append(element[\"label\"])\n",
    "  return label[:k]\n"
   ]
  },
  {
   "cell_type": "code",
   "execution_count": 8,
   "metadata": {
    "id": "9KjoMLkVFK8t"
   },
   "outputs": [],
   "source": [
    "def predict(label):\n",
    "  num1 = 0\n",
    "  num0 = 0\n",
    "  for element in label:\n",
    "    if int(element) == 1:\n",
    "      num1 = num1 + 1\n",
    "    else:\n",
    "      num0 = num0 + 1\n",
    "  if num1 > num0 :\n",
    "    return 1\n",
    "  else:\n",
    "    return 0"
   ]
  },
  {
   "cell_type": "code",
   "execution_count": 9,
   "metadata": {
    "colab": {
     "base_uri": "https://localhost:8080/"
    },
    "executionInfo": {
     "elapsed": 417,
     "status": "ok",
     "timestamp": 1699525662544,
     "user": {
      "displayName": "Ngọc Toàn",
      "userId": "16761582742211695380"
     },
     "user_tz": -420
    },
    "id": "KOODWhgXFLAF",
    "outputId": "8379d8c2-c854-43a7-e904-d28f170eb9b6"
   },
   "outputs": [
    {
     "name": "stdout",
     "output_type": "stream",
     "text": [
      "True =  0 Predict =  1\n",
      "True =  1 Predict =  1\n",
      "True =  1 Predict =  1\n",
      "True =  1 Predict =  0\n",
      "True =  1 Predict =  0\n",
      "True =  0 Predict =  0\n",
      "True =  0 Predict =  0\n",
      "True =  1 Predict =  1\n",
      "True =  1 Predict =  1\n",
      "True =  0 Predict =  0\n"
     ]
    }
   ],
   "source": [
    "k = 21\n",
    "for i in range(10):\n",
    "  test = testData[i]\n",
    "  label = computeKNN(trainingData,test,k)\n",
    "  #print(label)\n",
    "  print(\"True = \",test[-1],\"Predict = \",predict(label))\n",
    "\n"
   ]
  },
  {
   "cell_type": "markdown",
   "metadata": {
    "id": "fj_1ekZacXO2"
   },
   "source": []
  }
 ],
 "metadata": {
  "colab": {
   "provenance": []
  },
  "kernelspec": {
   "display_name": "Python 3 (ipykernel)",
   "language": "python",
   "name": "python3"
  },
  "language_info": {
   "codemirror_mode": {
    "name": "ipython",
    "version": 3
   },
   "file_extension": ".py",
   "mimetype": "text/x-python",
   "name": "python",
   "nbconvert_exporter": "python",
   "pygments_lexer": "ipython3",
   "version": "3.11.4"
  }
 },
 "nbformat": 4,
 "nbformat_minor": 1
}
