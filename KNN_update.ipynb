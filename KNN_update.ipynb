{
 "cells": [
  {
   "cell_type": "markdown",
   "metadata": {},
   "source": [
    "<h1 style=\"text-align:center;margin-top:0;color:#ae1614;\">BÁO CÁO TIẾN ĐỘ GIỮA KỲ BÀI TẬP LỚN TRÍ TUỆ NHÂN TẠO</h1>"
   ]
  },
  {
   "cell_type": "markdown",
   "metadata": {},
   "source": [
    "<h2 style=\"text-align:center;margin-top:0;color:#ae1614;\">ỨNG DỤNG THUẬT TOÁN K-NN NHẰM DỰ ĐOÁN BỆNH NHÂN MẮC BỆNH TIỂU ĐƯỜNG</h2>"
   ]
  },
  {
   "cell_type": "markdown",
   "metadata": {},
   "source": [
    "<h2 style=\"margin-top:0;\">I. GIỚI THIỆU VỀ ĐỀ TÀI, PHƯƠNG PHÁP THUẬT TOÁN THỰC HIỆN</h2>"
   ]
  },
  {
   "cell_type": "markdown",
   "metadata": {},
   "source": [
    "<h3 style=\"margin-top:0;\">1. Giới thiệu đề tài</h3>"
   ]
  },
  {
   "cell_type": "markdown",
   "metadata": {},
   "source": [
    "<p style=\"text-align:justify;\">Đề tài nhóm lựa chọn là bài toán học máy phân lớp dữ liệu sử dụng thuật toán K-NN (K Nearest Neighbors hay K Láng giềng gần) và được ứng dụng trong thực tế với công việc dự đoan khả năng mắc bệnh tiểu đường. Bệnh tiểu đường là một căn bệnh nguy hiểm và có thể để lại những biến chứng, tác hại nghiêm trọng nếu không được phát hiện từ sớm. Dựa trên các thông tin về sức khỏe của người bệnh(cân nặng, chiều cao, hàm lượng máu, các chỉ số y tế,…) để xây dựng nên thuật toán K-NN  giúp dự đoán khả năng mắc bệnh tiểu đường trong tương lai.</p>"
   ]
  },
  {
   "cell_type": "markdown",
   "metadata": {},
   "source": [
    "<h3 style=\"margin-top:0;\">2. Giới thiệu thuật toán K-NN (K Nearest Neighbors)</h3>"
   ]
  },
  {
   "cell_type": "markdown",
   "metadata": {},
   "source": [
    "<p style=\"text-align:justify;\">K-nearest neighbor là một trong những thuật toán supervised-learning đơn giản nhất trong Machine Learning. Khi training, thuật toán này không học một điều gì từ dữ liệu training, mọi tính toán được thực hiện khi nó cần dự đoán kết quả của dữ liệu mới. Thuật toán K-NN áp dụng trong bài toán trên thuộc lớp bài toán Classification (Phân Loại) của Machine Learing.  \n",
    "Thuật toán KNN cho rằng những dữ liệu tương tự nhau sẽ tồn tại gần nhau trong một không gian, từ đó công việc của chúng ta là sẽ tìm k điểm gần với dữ liệu cần kiểm tra nhất. Việc tìm khoảng cách giữa 2 điểm củng có nhiều công thức có thể sử dụng, tùy trường hợp mà chúng ta lựa chọn cho phù hợp. Đối với phạm vi của đề tài nhóm thực hiện, nhóm sử dụng hàm Euclide để tính toán khoảng cách.<p>\n",
    "<img src=\"https://www.delftstack.com/img/Math/euclidean%20distance.png\"></img>\n",
    "<p style=\"text-align:justify;\">Sau khi tính toán được khoảng cách từ điểm dữ liệu mới tới các điểm xung quanh. Label của một điểm dữ liệu mới đó được suy ra trực tiếp từ K điểm dữ liệu gần nhất trong training set. Label của một test data có thể được quyết định bằng major voting (bầu chọn theo số phiếu) giữa các điểm gần nhất, hoặc nó có thể được suy ra bằng cách đánh trọng số khác nhau cho mỗi trong các điểm gần nhất đó rồi suy ra label.</p>"
   ]
  },
  {
   "cell_type": "markdown",
   "metadata": {},
   "source": [
    "<h2 style=\"margin-top:0;\">II. CHI TIẾT THỰC HIỆN THUẬT TOÁN VÀ KẾT QUẢ CHẠY</h2>"
   ]
  },
  {
   "cell_type": "markdown",
   "metadata": {},
   "source": [
    "<h3 style=\"margin-top:0;\">Khai báo một số thư viện hỗ trợ</h3>"
   ]
  },
  {
   "cell_type": "code",
   "execution_count": 13,
   "metadata": {
    "id": "VhG_Z5hHEzns"
   },
   "outputs": [],
   "source": [
    "import csv\n",
    "import numpy as np\n",
    "import math\n",
    "import pandas as pd"
   ]
  },
  {
   "cell_type": "markdown",
   "metadata": {},
   "source": [
    "<h3 style=\"margin-top:0;\">Đọc và xử lý dữ liệu đầu vào từ file .csv và phân chia tập dữ liệu</h3>"
   ]
  },
  {
   "cell_type": "markdown",
   "metadata": {},
   "source": [
    "<p style=\"text-align:justify;\">Tập dữ liệu sử dụng cho thuật toán là tập dữ liệu diabetes (tiểu đường) chứa các thông số phục vụ cho việc phát hiện bệnh tiểu đường bao gồm 8 thông tin về: <b>Pregnancies</b> - số lần mang thai, <b>Glucose</b> - hàm lượng đường trong máu, <b>BloodPressure</b> - huyết áp, <b>SkinThickness</b> - độ dày của da, <b>Insulin </b> - chỉ số hormone Insulin trong máu, <b>BMI</b> - chỉ số BMI, <b>DiabetesPedigreeFunction</b> - chỉ số ước tính nguy cơ mắc bênh dựa trên tiền sử của gia đình về bệnh tiểu đường, <b>Age</b> - Tuổi tác.</p>"
   ]
  },
  {
   "cell_type": "code",
   "execution_count": 14,
   "metadata": {
    "executionInfo": {
     "elapsed": 528,
     "status": "ok",
     "timestamp": 1699525657944,
     "user": {
      "displayName": "Ngọc Toàn",
      "userId": "16761582742211695380"
     },
     "user_tz": -420
    },
    "id": "fyr3zcVCFKyY"
   },
   "outputs": [],
   "source": [
    "file = open(\"diabetes.csv\", \"r\")\n",
    "dataset = csv.reader(file)#đọc dữ liệu đầu vào\n",
    "dataset = np.array(list(dataset))#chuyển về dạng ma trận\n",
    "dataset = np.delete(dataset,0,0)#xóa header\n",
    "file.close()\n",
    "#Phân chia tập dữ liệu về tập Test và tập Training\n",
    "trainingData = dataset[:538]#Tập training bao gồm 500 bản ghi dữ liệu đầu tiên\n",
    "testData = dataset[538:]#Tập test bao gồm các bản ghi dữ liệu còn lại"
   ]
  },
  {
   "cell_type": "markdown",
   "metadata": {},
   "source": [
    "<h3 style=\"margin-top:0;\">Hiển thị dữ liệu của tập Training</h3>"
   ]
  },
  {
   "cell_type": "code",
   "execution_count": 3,
   "metadata": {
    "colab": {
     "base_uri": "https://localhost:8080/"
    },
    "executionInfo": {
     "elapsed": 5,
     "status": "ok",
     "timestamp": 1699521348203,
     "user": {
      "displayName": "hieu nguyen",
      "userId": "05257336790791346897"
     },
     "user_tz": -420
    },
    "id": "Cr3gatWOXYps",
    "outputId": "cc0fa099-430a-4eba-cb5e-be01232ce0df"
   },
   "outputs": [
    {
     "name": "stdout",
     "output_type": "stream",
     "text": [
      "    Pregnancies Glucose BloodPressure SkinThickness Insulin   BMI  \\\n",
      "0             6     148            72            35       0  33.6   \n",
      "1             1      85            66            29       0  26.6   \n",
      "2             8     183            64             0       0  23.3   \n",
      "3             1      89            66            23      94  28.1   \n",
      "4             0     137            40            35     168  43.1   \n",
      "..          ...     ...           ...           ...     ...   ...   \n",
      "533           6      91             0             0       0  29.8   \n",
      "534           1      77            56            30      56  33.3   \n",
      "535           4     132             0             0       0  32.9   \n",
      "536           0     105            90             0       0  29.6   \n",
      "537           0      57            60             0       0  21.7   \n",
      "\n",
      "    DiabetesPedigreeFunction Age Outcome  \n",
      "0                      0.627  50       1  \n",
      "1                      0.351  31       0  \n",
      "2                      0.672  32       1  \n",
      "3                      0.167  21       0  \n",
      "4                      2.288  33       1  \n",
      "..                       ...  ..     ...  \n",
      "533                    0.501  31       0  \n",
      "534                    1.251  24       0  \n",
      "535                    0.302  23       1  \n",
      "536                    0.197  46       0  \n",
      "537                    0.735  67       0  \n",
      "\n",
      "[538 rows x 9 columns]\n"
     ]
    }
   ],
   "source": [
    "print(pd.DataFrame(trainingData,columns=[\"Pregnancies\",\"Glucose\",\"BloodPressure\",\"SkinThickness\",\"Insulin\",\"BMI\",\"DiabetesPedigreeFunction\",\"Age\",\"Outcome\"]))"
   ]
  },
  {
   "cell_type": "markdown",
   "metadata": {},
   "source": [
    "<h3 style=\"margin-top:0;\">Hiển thị dữ liệu của tập Test</h3>"
   ]
  },
  {
   "cell_type": "code",
   "execution_count": 4,
   "metadata": {
    "colab": {
     "base_uri": "https://localhost:8080/"
    },
    "executionInfo": {
     "elapsed": 336,
     "status": "ok",
     "timestamp": 1699517056208,
     "user": {
      "displayName": "hieu nguyen",
      "userId": "05257336790791346897"
     },
     "user_tz": -420
    },
    "id": "3t3c4K4CFK0d",
    "outputId": "08c0a9d6-eb55-4b8b-8375-74e787d482dc"
   },
   "outputs": [
    {
     "name": "stdout",
     "output_type": "stream",
     "text": [
      "    Pregnancies Glucose BloodPressure SkinThickness Insulin   BMI  \\\n",
      "0             0     127            80            37     210  36.3   \n",
      "1             3     129            92            49     155  36.4   \n",
      "2             8     100            74            40     215  39.4   \n",
      "3             3     128            72            25     190  32.4   \n",
      "4            10      90            85            32       0  34.9   \n",
      "..          ...     ...           ...           ...     ...   ...   \n",
      "225          10     101            76            48     180  32.9   \n",
      "226           2     122            70            27       0  36.8   \n",
      "227           5     121            72            23     112  26.2   \n",
      "228           1     126            60             0       0  30.1   \n",
      "229           1      93            70            31       0  30.4   \n",
      "\n",
      "    DiabetesPedigreeFunction Age Outcome  \n",
      "0                      0.804  23       0  \n",
      "1                      0.968  32       1  \n",
      "2                      0.661  43       1  \n",
      "3                      0.549  27       1  \n",
      "4                      0.825  56       1  \n",
      "..                       ...  ..     ...  \n",
      "225                    0.171  63       0  \n",
      "226                     0.34  27       0  \n",
      "227                    0.245  30       0  \n",
      "228                    0.349  47       1  \n",
      "229                    0.315  23       0  \n",
      "\n",
      "[230 rows x 9 columns]\n"
     ]
    }
   ],
   "source": [
    "print(pd.DataFrame(testData,columns=[\"Pregnancies\",\"Glucose\",\"BloodPressure\",\"SkinThickness\",\"Insulin\",\"BMI\",\"DiabetesPedigreeFunction\",\"Age\",\"Outcome\"]))"
   ]
  },
  {
   "cell_type": "markdown",
   "metadata": {},
   "source": [
    "<h3 style=\"margin-top:0;\">Xây dựng hàm tính khoảng cách dựa trên hàm khoảng cách Euclide</h3>\n",
    "<img src=\"https://www.delftstack.com/img/Math/euclidean%20distance.png\"></img>"
   ]
  },
  {
   "cell_type": "code",
   "execution_count": 15,
   "metadata": {
    "id": "BEV7NcbtFK2c"
   },
   "outputs": [],
   "source": [
    "def computeDistance(data1,data2):\n",
    "  res = 0;\n",
    "  for i in range(8):\n",
    "    res += ( float(data1[i]) - float(data2[i])  )**2\n",
    "  return math.sqrt(res)\n"
   ]
  },
  {
   "cell_type": "markdown",
   "metadata": {},
   "source": [
    "<h3 style=\"margin-top:0;\">Xây dựng hàm K-NN bao gồm việc tính khoảng cách và lấy nhãn của các điểm trong tập Training với điểm đang được xét</h3>"
   ]
  },
  {
   "cell_type": "code",
   "execution_count": 11,
   "metadata": {
    "id": "9VDqGqpuFK43"
   },
   "outputs": [],
   "source": [
    "def computeKNN(trainingData,point,k):\n",
    "  distance = []#mảng chứa khoảng cách các điểm\n",
    "  for data in trainingData:\n",
    "    #khai bao dictionary bao gồm nhãn và khoảng cách từ các điểm trong tập training đến điểm được xét\n",
    "    label_distance = {\n",
    "        \"label\" : data[-1],\n",
    "        \"dis\": computeDistance(data,point)\n",
    "    }\n",
    "    distance.append(label_distance)\n",
    "    #Sắp xếp lại mảng theo thứ tự tăng dần dựa trên khoảng cách\n",
    "  distance.sort(key = lambda x: x[\"dis\"])\n",
    "  label = []\n",
    "    #Lấy ra label của k điểm gần nhất đơi với điểm được xét\n",
    "  for element in distance:\n",
    "    label.append(element[\"label\"])\n",
    "  return label[:k]\n"
   ]
  },
  {
   "cell_type": "markdown",
   "metadata": {},
   "source": [
    "<h3 style=\"margin-top:0;\">Xây dựng hàm dự đoán kết quả dựa trên nhãn của k điểm gần nhất</h3>\n",
    "<p>Nhãn sẽ được quyết định dựa trên major voting, tức trong k điểm gần nhất nhãn nào xuất hiện nhiều hơn thì nhãn đó sẽ được gán cho điểm đang xét</p>"
   ]
  },
  {
   "cell_type": "code",
   "execution_count": 12,
   "metadata": {
    "id": "9KjoMLkVFK8t"
   },
   "outputs": [],
   "source": [
    "def predict(label):\n",
    "  num1 = 0\n",
    "  num0 = 0\n",
    "#Đếm số lượng mỗi nhãn trong k điểm gần nhất\n",
    "  for element in label:\n",
    "    if int(element) == 1:\n",
    "      num1 = num1 + 1\n",
    "    else:\n",
    "      num0 = num0 + 1\n",
    "#so sánh số lượng mỗi nhãn để chọn ra nhãn gán cho điểm\n",
    "  if num1 > num0 :\n",
    "    return 1\n",
    "  else:\n",
    "    return 0"
   ]
  },
  {
   "cell_type": "markdown",
   "metadata": {},
   "source": [
    "<h3 style=\"margin-top:0;\">Xây dựng hàm đánh giá kết quả giữa nhãn thật và nhãn được gán khi phân loại</h3>\n",
    "<p>So sánh kết quả giữa 2 nhãn rồi phân loại vào 4 nhóm sau đây:</p>\n",
    "<ul>\n",
    "    <li>TP - True Positive: Nhãn thật thuộc nhóm dương và nhãn phân loại cũng thuộc nhóm dương</li>\n",
    "    <li>FN - False Negative: Nhãn thật thuộc nhóm âm nhưng nhãn phân loại thuộc nhóm dương</li>\n",
    "    <li>FP - False Positive: Nhãn thật thuộc nhóm dương nhưng nhãn phân loại thuộc nhóm âm</li>\n",
    "    <li>TN - True Negative: Nhãn thật thuộc nhóm âm và nhãn phân loại cũng thuộc nhóm âm</li>\n",
    "</ul>"
   ]
  },
  {
   "cell_type": "code",
   "execution_count": 16,
   "metadata": {},
   "outputs": [],
   "source": [
    "def evaluate(x,y):\n",
    "    tp = 0\n",
    "    fn = 0\n",
    "    fp = 0\n",
    "    tn = 0\n",
    "    if (x==1 and y == 1):\n",
    "        tp = 1\n",
    "    elif (x == 1 and y == 0):\n",
    "        fn = 1\n",
    "    elif (y == 1):\n",
    "        fp = 1\n",
    "    else:\n",
    "        tn = 1\n",
    "    return [tp,fn,fp,tn]"
   ]
  },
  {
   "cell_type": "markdown",
   "metadata": {},
   "source": [
    "<h3 style=\"margin-top:0;\">Thực hiên quá trình phân loại dữ liệu trong tập Test và kết quả phân loại</h3>\n",
    "<p style=\"font-size:16px;\">Lựa chọn k = 5, tức 5 điểm gần điểm được xét nhất để gán nhãn cho điểm đó</p>"
   ]
  },
  {
   "cell_type": "code",
   "execution_count": 14,
   "metadata": {
    "colab": {
     "base_uri": "https://localhost:8080/"
    },
    "executionInfo": {
     "elapsed": 417,
     "status": "ok",
     "timestamp": 1699525662544,
     "user": {
      "displayName": "Ngọc Toàn",
      "userId": "16761582742211695380"
     },
     "user_tz": -420
    },
    "id": "KOODWhgXFLAF",
    "outputId": "8379d8c2-c854-43a7-e904-d28f170eb9b6",
    "scrolled": true
   },
   "outputs": [
    {
     "name": "stdout",
     "output_type": "stream",
     "text": [
      "TP = 49\n",
      "FN = 37\n",
      "FP = 39\n",
      "TN = 143\n",
      "Accuracy: 72.00%\n",
      "Precision: 55.68%\n",
      "Recall: 56.98%\n"
     ]
    }
   ],
   "source": [
    "k = 5\n",
    "TP = 0\n",
    "FN = 0  \n",
    "FP = 0  \n",
    "TN = 0  \n",
    "#Thực hiện phân loại dữ liệu trong TestData\n",
    "for element in testData:\n",
    "    label = computeKNN(trainingData, element, k)\n",
    "    #print(\"True = \", element[-1], \"Predict = \", predict(label))\n",
    "    tp, fn, fp, tn = evaluate(int(element[-1]), predict(label))  \n",
    "    TP += tp\n",
    "    FN += fn\n",
    "    FP += fp\n",
    "    TN += tn\n",
    "data_size = len(testData)\n",
    "#print(data_size)\n",
    "#Hiển thi số lượng các nhãn dán của 4 nhóm đánh giá chất lượng\n",
    "print(\"TP =\", TP) \n",
    "print(\"FN =\", FN) \n",
    "print(\"FP =\", FP) \n",
    "print(\"TN =\", TN) \n",
    "#Tính toán các chỉ số để đánh giá độ chính xác của thuật toán\n",
    "accuracy =round(float( (TP + TN)/data_size),2)\n",
    "precision = float(TP/(TP+FP)) # tính tỉ lệ số người thực sự bị bệnh trong những người được dự đoán bị bệnh\n",
    "recall = float(TP/(TP+FN)) #tính tỉ lệ dự đoán chính xác trong những người bị bệnh\n",
    "\n",
    "print(f\"Accuracy: {accuracy*100:.2f}%\")\n",
    "print(f\"Precision: {precision*100:.2f}%\")\n",
    "print(f\"Recall: {recall*100:.2f}%\")"
   ]
  },
  {
   "cell_type": "markdown",
   "metadata": {},
   "source": [
    "<b>Chú thích các kết quả phân loại dữ liệu:</b>\n",
    "<ul>\n",
    "    <li><b>TP - True Positive:</b> Số người bị bệnh và được dự đoán là bị bệnh</li>\n",
    "    <li><b>FN - False Negative:</b> Số người bị bệnh nhưng được dự đoán là không bị bệnh</li>\n",
    "    <li><b>FP - False Positive:</b> Số người không bị bệnh những được dự đoán là bị bệnh</li>\n",
    "    <li><b>TN - True Negative:</b> Số người không bị bệnh và được dự đoán là không bị bệnh</li>\n",
    "    <li><b>Accuracy:</b> Tỉ lệ giữa những người được dự đoán đúng tình trạng và tổng số người trong tập dữ liệu Test</li>\n",
    "    <li><b>Precision:</b> Tỉ lệ số người bị bệnh mô hình dự đoán đúng trên tổng số người mô hình dự đoán là bị bệnh</li>\n",
    "    <li><b>Recall:</b> Tỉ lệ số người bị bệnh mô hình dự đoán đúng trên tổng số người thật sự bị bệnh (hay tổng số người được gán nhãn là bị bệnh ban đầu).</li>\n",
    "</ul>"
   ]
  },
  {
   "cell_type": "markdown",
   "metadata": {},
   "source": [
    "<h2 style=\"margin-top:0;\">III. Khó khăn cần được giải quyết và một số phương án nâng cao hiệu suất</h2>"
   ]
  },
  {
   "cell_type": "markdown",
   "metadata": {},
   "source": [
    "<h3 style=\"margin-top:0;\">1. Độ chính xác của việc phân loại chưa được cao</h3>"
   ]
  },
  {
   "cell_type": "markdown",
   "metadata": {},
   "source": [
    "<p style=\"text-align: justify;\">Theo kết quả chương trình chạy ở phần trên độ chính xác của các điểm được dự đoán đúng nhãn chỉ mới dừng lại ở 72%, nguyên nhân có thể là do số kiểm K được chọn còn khá nhỏ (k=5). Để có thể cải thiện hiệu suất của việc dự đoán, nhóm sẽ cố gắng lựa chọn con số K lớn hơn nhưng phải phù hợp để tránh tình trạng số lượng điểm quá nhiều gây ra hiện tượng nhiễu dẫn đến sai lệch về dự đoán. Đồng thời kết hợp với yếu tố đánh trọng số trong việc phân loại kết quả, tức những điểm có khoảng cách gần điểm được xét hơn sẽ được đánh trọng số cao hơn để nâng cao khả năng được dự đoán đúng nhãn của điểm đang xét.</p>"
   ]
  },
  {
   "cell_type": "markdown",
   "metadata": {},
   "source": [
    "<h3 style=\"margin-top:0;\">2. Cần tối ưu thêm thời gian chạy chương trình</h3>\n",
    "<p style=\"text-align: justify;\">Thuật toán K-NN phải tính khoảng cách giữa điểm dữ liệu mới và tất cả các điểm dữ liệu trong tập huấn luyện. Điều này có thể gây tốn nhiều thời gian, đặc biệt là khi kích thước của tập dữ liệu lớn và công thức tính khoảng cách phức tạp với nhiều trường thông tin. Để nâng cao hiệu suất, nhóm cần tìm hiểu thêm về một số kỹ thuật cải thiện thời gian chạy như: Kỹ thuật tìm kiếm gần nhất, Kỹ thuật cây tìm kiếm, Kỹ thuật k-d tree, ...</p>"
   ]
  },
  {
   "cell_type": "markdown",
   "metadata": {},
   "source": [
    "<h2 style=\"margin-top:0;\">IV. Tổng kết</h2>"
   ]
  },
  {
   "cell_type": "markdown",
   "metadata": {},
   "source": [
    "<p style=\"text-align: justify;\">Mặc dù sử dụng thuật toán KNN được đánh giá không phải là 1 thuật toán tối ưu và chính xác để dự báo kết quả cuối cùng, việc xử lý và thực hiện vẫn đưa ra được độ chính xác 72%. Tuy nhiên vẫn cần thay đổi và phát triển.\n",
    "    \n",
    "Đối với các thuật toán đánh giá khác, con số 72% được đánh giá thấp. Vì vậy nên nếu muốn dự đoán chuyên sâu ta cần nghiên cứu và chọn lựa lại 1 thuật toán tối ưu và nhanh chóng hơn</p>"
   ]
  },
  {
   "cell_type": "code",
   "execution_count": 17,
   "metadata": {},
   "outputs": [],
   "source": [
    "def new_computeKNN(trainingData,point,k):\n",
    "  distance = []\n",
    "  for data in trainingData:\n",
    "    #khai bao dictionary\n",
    "    label_distance = {\n",
    "        \"label\" : data[-1],\n",
    "        \"dis\": computeDistance(data,point)\n",
    "    }\n",
    "    distance.append(label_distance)\n",
    "  distance.sort(key = lambda x: x[\"dis\"])\n",
    "\n",
    "  return distance[:k]"
   ]
  },
  {
   "cell_type": "code",
   "execution_count": 19,
   "metadata": {},
   "outputs": [],
   "source": [
    "def new_predict(label):\n",
    "  weight1 = 0\n",
    "  weight2 = 0\n",
    "  for element in label:\n",
    "    if int(element[\"label\"]) == 1:\n",
    "      weight1 += 1/float(element[\"dis\"])\n",
    "    else:\n",
    "      weight2 += 1/float(element[\"dis\"])\n",
    "  if weight1 > weight2: \n",
    "    return 1\n",
    "  else:\n",
    "    return 0"
   ]
  },
  {
   "cell_type": "code",
   "execution_count": 9,
   "metadata": {},
   "outputs": [],
   "source": [
    "data_size = len(testData)"
   ]
  },
  {
   "cell_type": "code",
   "execution_count": 24,
   "metadata": {},
   "outputs": [
    {
     "name": "stdout",
     "output_type": "stream",
     "text": [
      "TP = 41\n",
      "FN = 0\n",
      "FP = 16\n",
      "TN = 173\n",
      "Accuracy: 93.00%\n",
      "Precision: 71.93%\n",
      "Recall: 100.00%\n"
     ]
    }
   ],
   "source": [
    "k = 23\n",
    "TP = 0\n",
    "FN = 0\n",
    "FP = 0\n",
    "TN = 0\n",
    "\n",
    "for element in testData:\n",
    "    label = new_computeKNN(trainingData, element, k)\n",
    "    #print(\"True = \", element[-1], \"Predict = \", predict(label))\n",
    "\n",
    "    tp, fn, fp, tn = evaluate(int(element[-1]), new_predict(label))\n",
    "    TP += tp\n",
    "    FN += fn\n",
    "    FP += fp\n",
    "    TN += tn\n",
    "#print(data_size)\n",
    "print(\"TP =\", TP) # True Positive: người bị bệnh được dự đoán là bị bệnh\n",
    "print(\"FN =\", FN) # False Negative: người bị bệnh được dự đoán là không có bệnh\n",
    "print(\"FP =\", FP) # False Positive: người không bị bệnh được dự đoán là bị bệnh\n",
    "print(\"TN =\", TN) # True Negative: người không bị bệnh được dự đoán là không bị bệnh\n",
    "\n",
    "accuracy =round(float( (TP + TN)/data_size),2)\n",
    "precision = float(TP/(TP+FP)) # tính tỉ lệ số người thực sự bị bệnh trong những người được dự đoán bị bệnh\n",
    "recall = float(TP/(TP+FN)) #tính tỉ lệ dự đoán chính xác trong những người bị bệnh\n",
    "\n",
    "print(f\"Accuracy: {accuracy*100:.2f}%\")\n",
    "print(f\"Precision: {precision*100:.2f}%\")\n",
    "print(f\"Recall: {recall*100:.2f}%\")"
   ]
  },
  {
   "cell_type": "code",
   "execution_count": 10,
   "metadata": {},
   "outputs": [],
   "source": [
    "data_points = []\n",
    "maxa = 0\n",
    "ide = 0 \n",
    "for k in range(15,51):\n",
    "    TP = 0\n",
    "    FN = 0\n",
    "    FP = 0\n",
    "    TN = 0\n",
    "\n",
    "    for element in testData:\n",
    "        label = new_computeKNN(trainingData, element, k)\n",
    "        #print(\"True = \", element[-1], \"Predict = \", predict(label))\n",
    "\n",
    "        tp, fn, fp, tn = evaluate(int(element[-1]), new_predict(label))\n",
    "        TP += tp\n",
    "        FN += fn\n",
    "        FP += fp\n",
    "        TN += tn\n",
    "    accuracy =round(float( (TP + TN)/data_size),2)\n",
    "    if accuracy > maxa:\n",
    "        maxa = accuracy\n",
    "        ide = k\n",
    "    data_points.append([k,accuracy])"
   ]
  },
  {
   "cell_type": "code",
   "execution_count": 12,
   "metadata": {},
   "outputs": [
    {
     "name": "stdout",
     "output_type": "stream",
     "text": [
      "0.78\n",
      "50\n"
     ]
    }
   ],
   "source": [
    "print(maxa)\n",
    "print(k)"
   ]
  },
  {
   "cell_type": "code",
   "execution_count": 35,
   "metadata": {},
   "outputs": [],
   "source": [
    "import matplotlib.pyplot as plt\n",
    "\n",
    "def display_k_and_accuracy(data_points):\n",
    "    k_values, accuracy_values = zip(*data_points)\n",
    "    \n",
    "\n",
    "    plt.plot(k_values, accuracy_values, marker='o', linestyle='-', color='b', label='Accuracy')\n",
    "\n",
    "    max_point = max(data_points, key=lambda point: point[1])\n",
    "    plt.scatter([max_point[0]], [max_point[1]], color='red', label=f'Max Accuracy: {max_point[1]}', zorder=5)\n",
    "\n",
    "    plt.xlabel('Giá trị k')\n",
    "    plt.ylabel('Độ chính xác (Accuracy)')\n",
    "\n",
    "    plt.title('Biểu đồ Accuracy theo giá trị k')\n",
    "\n",
    "    plt.legend()\n",
    "    plt.show()"
   ]
  },
  {
   "cell_type": "code",
   "execution_count": 38,
   "metadata": {},
   "outputs": [
    {
     "data": {
      "image/png": "[encoded data removed]",
      "text/plain": [
       "<Figure size 640x480 with 1 Axes>"
      ]
     },
     "metadata": {},
     "output_type": "display_data"
    }
   ],
   "source": [
    "display_k_and_accuracy(data_points)"
   ]
  },
  {
   "cell_type": "code",
   "execution_count": 19,
   "metadata": {},
   "outputs": [],
   "source": [
    "Edata_points = []\n",
    "for k in range(10, 51):\n",
    "    TP = 0\n",
    "    FN = 0\n",
    "    FP = 0\n",
    "    TN = 0\n",
    "\n",
    "    for element in testData:\n",
    "        label = new_computeKNN(trainingData, element, k)\n",
    "        tp, fn, fp, tn = evaluate(int(element[-1]), new_predict(label))\n",
    "        TP += tp\n",
    "        FN += fn\n",
    "        FP += fp\n",
    "        TN += tn\n",
    "\n",
    "    error_rate = round(float(FP + FN) / data_size, 2)*100\n",
    "    Edata_points.append([k, error_rate])\n"
   ]
  },
  {
   "cell_type": "code",
   "execution_count": 20,
   "metadata": {},
   "outputs": [],
   "source": [
    "import matplotlib.pyplot as plt\n",
    "\n",
    "def display_error_rate(Edata_points):\n",
    "    x_values, y_values = zip(*Edata_points)\n",
    "\n",
    "    plt.plot(x_values, y_values, label='Đồ thị error rate * 100')\n",
    "\n",
    "    min_point = min(Edata_points, key=lambda point: point[1])\n",
    "    plt.scatter([min_point[0]], [min_point[1]], color='blue', label=f'Min: {min_point[1]}', zorder=5)\n",
    "\n",
    "    plt.xlabel('Trục K')\n",
    "    plt.ylabel('Trục Error Rate * 100')\n",
    "\n",
    "    plt.title('Đồ thị error rate * 100 và điểm có giá trị Error Rate * 100 thấp nhất')\n",
    "\n",
    "    plt.legend()\n",
    "    plt.show()"
   ]
  },
  {
   "cell_type": "code",
   "execution_count": 21,
   "metadata": {},
   "outputs": [
    {
     "data": {
      "image/png": "[encoded data removed]",
      "text/plain": [
       "<Figure size 640x480 with 1 Axes>"
      ]
     },
     "metadata": {},
     "output_type": "display_data"
    }
   ],
   "source": [
    "display_error_rate(Edata_points)\n"
   ]
  },
  {
   "cell_type": "markdown",
   "metadata": {},
   "source": [
    "# 15/12\n"
   ]
  },
  {
   "cell_type": "code",
   "execution_count": 20,
   "metadata": {},
   "outputs": [
    {
     "name": "stdout",
     "output_type": "stream",
     "text": [
      "[['1' '89' '66' ... '0.167' '21' '0']\n",
      " ['0' '137' '40' ... '2.288' '33' '1']\n",
      " ['3' '78' '50' ... '0.248' '26' '1']\n",
      " ...\n",
      " ['2' '88' '58' ... '0.766' '22' '0']\n",
      " ['10' '101' '76' ... '0.171' '63' '0']\n",
      " ['5' '121' '72' ... '0.245' '30' '0']]\n"
     ]
    }
   ],
   "source": [
    "numeric_dataset = dataset.astype(float)\n",
    "\n",
    "# Tạo một mảng boolean với điều kiện\n",
    "condition = np.all(numeric_dataset[:, 1:8] != 0, axis=1)\n",
    "\n",
    "# Lọc dataset ban đầu dựa trên mảng boolean\n",
    "filtered_dataset = dataset[condition]\n",
    "\n",
    "print(filtered_dataset)"
   ]
  },
  {
   "cell_type": "code",
   "execution_count": 21,
   "metadata": {},
   "outputs": [],
   "source": [
    "trainingData = filtered_dataset[:274]\n",
    "testData = filtered_dataset[274:]"
   ]
  },
  {
   "cell_type": "code",
   "execution_count": 22,
   "metadata": {},
   "outputs": [
    {
     "name": "stdout",
     "output_type": "stream",
     "text": [
      "392\n"
     ]
    }
   ],
   "source": [
    "siez = len(filtered_dataset)\n",
    "print(siez)"
   ]
  },
  {
   "cell_type": "code",
   "execution_count": 23,
   "metadata": {},
   "outputs": [
    {
     "name": "stdout",
     "output_type": "stream",
     "text": [
      "118\n"
     ]
    }
   ],
   "source": [
    "data_size = len(testData)\n",
    "print(data_size)"
   ]
  },
  {
   "cell_type": "code",
   "execution_count": 25,
   "metadata": {},
   "outputs": [],
   "source": [
    "data_points = []\n",
    "maxa = 0\n",
    "ide = 0\n",
    "for k in range(0,51):\n",
    "    TP = 0\n",
    "    FN = 0\n",
    "    FP = 0\n",
    "    TN = 0\n",
    "\n",
    "    for element in testData:\n",
    "        label = new_computeKNN(trainingData, element, k)\n",
    "        #print(\"True = \", element[-1], \"Predict = \", predict(label))\n",
    "\n",
    "        tp, fn, fp, tn = evaluate(int(element[-1]), new_predict(label))\n",
    "        TP += tp\n",
    "        FN += fn\n",
    "        FP += fp\n",
    "        TN += tn\n",
    "    accuracy =round(float( (TP + TN)/data_size),10)\n",
    "    if accuracy > maxa:\n",
    "        maxa = accuracy\n",
    "        ide = k\n",
    "    data_points.append([k,accuracy])"
   ]
  },
  {
   "cell_type": "code",
   "execution_count": 26,
   "metadata": {},
   "outputs": [
    {
     "name": "stdout",
     "output_type": "stream",
     "text": [
      "0.8305084746\n",
      "50\n"
     ]
    }
   ],
   "source": [
    "print(maxa)\n",
    "print(k)"
   ]
  },
  {
   "cell_type": "code",
   "execution_count": 28,
   "metadata": {},
   "outputs": [
    {
     "name": "stdout",
     "output_type": "stream",
     "text": [
      "TP = 27\n",
      "FN = 10\n",
      "FP = 11\n",
      "TN = 70\n",
      "Accuracy: 82.00%\n",
      "Precision: 71.05%\n",
      "Recall: 72.97%\n"
     ]
    }
   ],
   "source": [
    "k = 15\n",
    "TP = 0\n",
    "FN = 0\n",
    "FP = 0\n",
    "TN = 0\n",
    "\n",
    "for element in testData:\n",
    "    label = new_computeKNN(trainingData, element, k)\n",
    "    #print(\"True = \", element[-1], \"Predict = \", predict(label))\n",
    "\n",
    "    tp, fn, fp, tn = evaluate(int(element[-1]), new_predict(label))\n",
    "    TP += tp\n",
    "    FN += fn\n",
    "    FP += fp\n",
    "    TN += tn\n",
    "#print(data_size)\n",
    "print(\"TP =\", TP) # True Positive: người bị bệnh được dự đoán là bị bệnh\n",
    "print(\"FN =\", FN) # False Negative: người bị bệnh được dự đoán là không có bệnh\n",
    "print(\"FP =\", FP) # False Positive: người không bị bệnh được dự đoán là bị bệnh\n",
    "print(\"TN =\", TN) # True Negative: người không bị bệnh được dự đoán là không bị bệnh\n",
    "\n",
    "accuracy =round(float( (TP + TN)/data_size),2)\n",
    "precision = float(TP/(TP+FP)) # tính tỉ lệ số người thực sự bị bệnh trong những người được dự đoán bị bệnh\n",
    "recall = float(TP/(TP+FN)) #tính tỉ lệ dự đoán chính xác trong những người bị bệnh\n",
    "\n",
    "print(f\"Accuracy: {accuracy*100:.2f}%\")\n",
    "print(f\"Precision: {precision*100:.2f}%\")\n",
    "print(f\"Recall: {recall*100:.2f}%\")"
   ]
  },
  {
   "cell_type": "code",
   "execution_count": null,
   "metadata": {},
   "outputs": [],
   "source": []
  }
 ],
 "metadata": {
  "colab": {
   "provenance": []
  },
  "kernelspec": {
   "display_name": "Python 3 (ipykernel)",
   "language": "python",
   "name": "python3"
  },
  "language_info": {
   "codemirror_mode": {
    "name": "ipython",
    "version": 3
   },
   "file_extension": ".py",
   "mimetype": "text/x-python",
   "name": "python",
   "nbconvert_exporter": "python",
   "pygments_lexer": "ipython3",
   "version": "3.11.4"
  }
 },
 "nbformat": 4,
 "nbformat_minor": 1
}
