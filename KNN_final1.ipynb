{
 "cells": [
  {
   "cell_type": "code",
   "execution_count": 1,
   "id": "c5270880",
   "metadata": {},
   "outputs": [],
   "source": [
    "import csv\n",
    "import numpy as np\n",
    "import math\n",
    "import pandas as pd"
   ]
  },
  {
   "cell_type": "code",
   "execution_count": 2,
   "id": "6f4609c5",
   "metadata": {},
   "outputs": [],
   "source": [
    "file = open(\"diabetes.csv\", \"r\")\n",
    "dataset = csv.reader(file)#đọc dữ liệu đầu vào\n",
    "dataset = np.array(list(dataset))#chuyển về dạng ma trận\n",
    "dataset = np.delete(dataset,0,0)#xóa header\n",
    "file.close()\n",
    "#Phân chia tập dữ liệu về tập Test và tập Training\n",
    "dataset = dataset.astype(float)\n",
    "trainingData = dataset[:538]#Tập training bao gồm 500 bản ghi dữ liệu đầu tiên\n",
    "testData = dataset[538:]#Tập test bao gồm các bản ghi dữ liệu còn lại"
   ]
  },
  {
   "cell_type": "code",
   "execution_count": 3,
   "id": "86dc5168",
   "metadata": {},
   "outputs": [
    {
     "name": "stdout",
     "output_type": "stream",
     "text": [
      "     Pregnancies  Glucose  BloodPressure  SkinThickness  Insulin   BMI  \\\n",
      "0            6.0    148.0           72.0           35.0      0.0  33.6   \n",
      "1            1.0     85.0           66.0           29.0      0.0  26.6   \n",
      "2            8.0    183.0           64.0            0.0      0.0  23.3   \n",
      "3            1.0     89.0           66.0           23.0     94.0  28.1   \n",
      "4            0.0    137.0           40.0           35.0    168.0  43.1   \n",
      "..           ...      ...            ...            ...      ...   ...   \n",
      "533          6.0     91.0            0.0            0.0      0.0  29.8   \n",
      "534          1.0     77.0           56.0           30.0     56.0  33.3   \n",
      "535          4.0    132.0            0.0            0.0      0.0  32.9   \n",
      "536          0.0    105.0           90.0            0.0      0.0  29.6   \n",
      "537          0.0     57.0           60.0            0.0      0.0  21.7   \n",
      "\n",
      "     DiabetesPedigreeFunction   Age  Outcome  \n",
      "0                       0.627  50.0      1.0  \n",
      "1                       0.351  31.0      0.0  \n",
      "2                       0.672  32.0      1.0  \n",
      "3                       0.167  21.0      0.0  \n",
      "4                       2.288  33.0      1.0  \n",
      "..                        ...   ...      ...  \n",
      "533                     0.501  31.0      0.0  \n",
      "534                     1.251  24.0      0.0  \n",
      "535                     0.302  23.0      1.0  \n",
      "536                     0.197  46.0      0.0  \n",
      "537                     0.735  67.0      0.0  \n",
      "\n",
      "[538 rows x 9 columns]\n"
     ]
    }
   ],
   "source": [
    "print(pd.DataFrame(trainingData,columns=[\"Pregnancies\",\"Glucose\",\"BloodPressure\",\"SkinThickness\",\"Insulin\",\"BMI\",\"DiabetesPedigreeFunction\",\"Age\",\"Outcome\"]))"
   ]
  },
  {
   "cell_type": "code",
   "execution_count": 4,
   "id": "bc5d0544",
   "metadata": {},
   "outputs": [
    {
     "name": "stdout",
     "output_type": "stream",
     "text": [
      "     Pregnancies  Glucose  BloodPressure  SkinThickness  Insulin   BMI  \\\n",
      "0            0.0    127.0           80.0           37.0    210.0  36.3   \n",
      "1            3.0    129.0           92.0           49.0    155.0  36.4   \n",
      "2            8.0    100.0           74.0           40.0    215.0  39.4   \n",
      "3            3.0    128.0           72.0           25.0    190.0  32.4   \n",
      "4           10.0     90.0           85.0           32.0      0.0  34.9   \n",
      "..           ...      ...            ...            ...      ...   ...   \n",
      "225         10.0    101.0           76.0           48.0    180.0  32.9   \n",
      "226          2.0    122.0           70.0           27.0      0.0  36.8   \n",
      "227          5.0    121.0           72.0           23.0    112.0  26.2   \n",
      "228          1.0    126.0           60.0            0.0      0.0  30.1   \n",
      "229          1.0     93.0           70.0           31.0      0.0  30.4   \n",
      "\n",
      "     DiabetesPedigreeFunction   Age  Outcome  \n",
      "0                       0.804  23.0      0.0  \n",
      "1                       0.968  32.0      1.0  \n",
      "2                       0.661  43.0      1.0  \n",
      "3                       0.549  27.0      1.0  \n",
      "4                       0.825  56.0      1.0  \n",
      "..                        ...   ...      ...  \n",
      "225                     0.171  63.0      0.0  \n",
      "226                     0.340  27.0      0.0  \n",
      "227                     0.245  30.0      0.0  \n",
      "228                     0.349  47.0      1.0  \n",
      "229                     0.315  23.0      0.0  \n",
      "\n",
      "[230 rows x 9 columns]\n"
     ]
    }
   ],
   "source": [
    "print(pd.DataFrame(testData,columns=[\"Pregnancies\",\"Glucose\",\"BloodPressure\",\"SkinThickness\",\"Insulin\",\"BMI\",\"DiabetesPedigreeFunction\",\"Age\",\"Outcome\"]))"
   ]
  },
  {
   "cell_type": "code",
   "execution_count": 5,
   "id": "ddbd50a1",
   "metadata": {},
   "outputs": [],
   "source": [
    "def computeDistance(data1,data2):\n",
    "  res = 0;\n",
    "  for i in range(8):\n",
    "    res += ( float(data1[i]) - float(data2[i])  )**2\n",
    "  return math.sqrt(res)\n"
   ]
  },
  {
   "cell_type": "code",
   "execution_count": 6,
   "id": "2c99ac22",
   "metadata": {},
   "outputs": [],
   "source": [
    "def computeKNN(trainingData,point,k):\n",
    "  distance = []#mảng chứa khoảng cách các điểm\n",
    "  for data in trainingData:\n",
    "    #khai bao dictionary bao gồm nhãn và khoảng cách từ các điểm trong tập training đến điểm được xét\n",
    "    label_distance = {\n",
    "        \"label\" : data[-1],\n",
    "        \"dis\": computeDistance(data,point)\n",
    "    }\n",
    "    distance.append(label_distance)\n",
    "    #Sắp xếp lại mảng theo thứ tự tăng dần dựa trên khoảng cách\n",
    "  distance.sort(key = lambda x: x[\"dis\"])\n",
    "  label = []\n",
    "    #Lấy ra label của k điểm gần nhất đơi với điểm được xét\n",
    "  for element in distance:\n",
    "    label.append(element[\"label\"])\n",
    "  return label[:k]\n"
   ]
  },
  {
   "cell_type": "code",
   "execution_count": 7,
   "id": "623f4ac3",
   "metadata": {},
   "outputs": [],
   "source": [
    "def predict(label):\n",
    "  num1 = 0\n",
    "  num0 = 0\n",
    "#Đếm số lượng mỗi nhãn trong k điểm gần nhất\n",
    "  for element in label:\n",
    "    if element == 1:\n",
    "      num1 = num1 + 1\n",
    "    else:\n",
    "      num0 = num0 + 1\n",
    "#so sánh số lượng mỗi nhãn để chọn ra nhãn gán cho điểm\n",
    "  if num1 > num0 :\n",
    "    return 1\n",
    "  else:\n",
    "    return 0"
   ]
  },
  {
   "cell_type": "code",
   "execution_count": 8,
   "id": "f3d88368",
   "metadata": {},
   "outputs": [],
   "source": [
    "def evaluate(x,y):\n",
    "    tp = 0\n",
    "    fn = 0\n",
    "    fp = 0\n",
    "    tn = 0\n",
    "    if (x==1 and y == 1):\n",
    "        tp = 1\n",
    "    elif (x == 1 and y == 0):\n",
    "        fn = 1\n",
    "    elif (y == 1):\n",
    "        fp = 1\n",
    "    else:\n",
    "        tn = 1\n",
    "    return [tp,fn,fp,tn]"
   ]
  },
  {
   "cell_type": "code",
   "execution_count": 9,
   "id": "eb9a59ca",
   "metadata": {},
   "outputs": [
    {
     "name": "stdout",
     "output_type": "stream",
     "text": [
      "TP = 47\n",
      "FN = 32\n",
      "FP = 31\n",
      "TN = 120\n",
      "Accuracy: 73.00%\n",
      "Precision: 60.26%\n",
      "Recall: 59.49%\n"
     ]
    }
   ],
   "source": [
    "k = 5\n",
    "TP = 0\n",
    "FN = 0  \n",
    "FP = 0  \n",
    "TN = 0  \n",
    "#Thực hiện phân loại dữ liệu trong TestData\n",
    "for element in testData:\n",
    "    label = computeKNN(trainingData, element, k)\n",
    "    #print(\"True = \", element[-1], \"Predict = \", predict(label))\n",
    "    tp, fn, fp, tn = evaluate(int(element[-1]), predict(label))  \n",
    "    TP += tp\n",
    "    FN += fn\n",
    "    FP += fp\n",
    "    TN += tn\n",
    "data_size = len(testData)\n",
    "#print(data_size)\n",
    "#Hiển thi số lượng các nhãn dán của 4 nhóm đánh giá chất lượng\n",
    "print(\"TP =\", TP) \n",
    "print(\"FN =\", FN) \n",
    "print(\"FP =\", FP) \n",
    "print(\"TN =\", TN) \n",
    "#Tính toán các chỉ số để đánh giá độ chính xác của thuật toán\n",
    "accuracy =round(float( (TP + TN)/data_size),2)\n",
    "precision = float(TP/(TP+FP)) # tính tỉ lệ số người thực sự bị bệnh trong những người được dự đoán bị bệnh\n",
    "recall = float(TP/(TP+FN)) #tính tỉ lệ dự đoán chính xác trong những người bị bệnh\n",
    "\n",
    "print(f\"Accuracy: {accuracy*100:.2f}%\")\n",
    "print(f\"Precision: {precision*100:.2f}%\")\n",
    "print(f\"Recall: {recall*100:.2f}%\")"
   ]
  },
  {
   "cell_type": "markdown",
   "id": "0181397d",
   "metadata": {},
   "source": [
    "# Tính KNN dựa trên trọng số"
   ]
  },
  {
   "cell_type": "markdown",
   "id": "fb1d22e1",
   "metadata": {},
   "source": [
    "def new_computeKNN(trainingData,point,k):\n",
    "  distance = []\n",
    "  for data in trainingData:\n",
    "    #khai bao dictionary\n",
    "    label_distance = {\n",
    "        \"label\" : data[-1],\n",
    "        \"dis\": computeDistance(data,point)\n",
    "    }\n",
    "    distance.append(label_distance)\n",
    "  distance.sort(key = lambda x: x[\"dis\"])\n",
    "\n",
    "  return distance[:k]"
   ]
  },
  {
   "cell_type": "code",
   "execution_count": 11,
   "id": "53f0bded",
   "metadata": {},
   "outputs": [],
   "source": [
    "def new_predict(label):\n",
    "  weight1 = 0\n",
    "  weight2 = 0\n",
    "  for element in label:\n",
    "    if int(element[\"label\"]) == 1:\n",
    "      weight1 += 1/float(element[\"dis\"])\n",
    "    else:\n",
    "      weight2 += 1/float(element[\"dis\"])\n",
    "  if weight1 > weight2: \n",
    "    return 1\n",
    "  else:\n",
    "    return 0"
   ]
  },
  {
   "cell_type": "code",
   "execution_count": 15,
   "id": "7746cb15",
   "metadata": {},
   "outputs": [
    {
     "name": "stdout",
     "output_type": "stream",
     "text": [
      "538\n"
     ]
    }
   ],
   "source": [
    "data_size = len(testData)\n",
    "print(768-data_size)"
   ]
  },
  {
   "cell_type": "code",
   "execution_count": 24,
   "id": "5df1d4cb",
   "metadata": {},
   "outputs": [
    {
     "name": "stdout",
     "output_type": "stream",
     "text": [
      "TP = 41\n",
      "FN = 38\n",
      "FP = 16\n",
      "TN = 135\n",
      "Accuracy: 77.00%\n",
      "Precision: 71.93%\n",
      "Recall: 51.90%\n"
     ]
    }
   ],
   "source": [
    "k = 23\n",
    "TP = 0\n",
    "FN = 0\n",
    "FP = 0\n",
    "TN = 0\n",
    "\n",
    "for element in testData:\n",
    "    label = new_computeKNN(trainingData, element, k)\n",
    "    #print(\"True = \", element[-1], \"Predict = \", predict(label))\n",
    "\n",
    "    tp, fn, fp, tn = evaluate(int(element[-1]), new_predict(label))\n",
    "    TP += tp\n",
    "    FN += fn\n",
    "    FP += fp\n",
    "    TN += tn\n",
    "#print(data_size)\n",
    "print(\"TP =\", TP) # True Positive: người bị bệnh được dự đoán là bị bệnh\n",
    "print(\"FN =\", FN) # False Negative: người bị bệnh được dự đoán là không có bệnh\n",
    "print(\"FP =\", FP) # False Positive: người không bị bệnh được dự đoán là bị bệnh\n",
    "print(\"TN =\", TN) # True Negative: người không bị bệnh được dự đoán là không bị bệnh\n",
    "\n",
    "accuracy =round(float( (TP + TN)/data_size),2)\n",
    "precision = float(TP/(TP+FP)) # tính tỉ lệ số người thực sự bị bệnh trong những người được dự đoán bị bệnh\n",
    "recall = float(TP/(TP+FN)) #tính tỉ lệ dự đoán chính xác trong những người bị bệnh\n",
    "\n",
    "print(f\"Accuracy: {accuracy*100:.2f}%\")\n",
    "print(f\"Precision: {precision*100:.2f}%\")\n",
    "print(f\"Recall: {recall*100:.2f}%\")"
   ]
  },
  {
   "cell_type": "markdown",
   "id": "7f3924a9",
   "metadata": {},
   "source": [
    "# Lọc dữ liệu vô lý"
   ]
  },
  {
   "cell_type": "code",
   "execution_count": 25,
   "id": "debd8d79",
   "metadata": {},
   "outputs": [
    {
     "name": "stdout",
     "output_type": "stream",
     "text": [
      "[[  1.     89.     66.    ...   0.167  21.      0.   ]\n",
      " [  0.    137.     40.    ...   2.288  33.      1.   ]\n",
      " [  3.     78.     50.    ...   0.248  26.      1.   ]\n",
      " ...\n",
      " [  2.     88.     58.    ...   0.766  22.      0.   ]\n",
      " [ 10.    101.     76.    ...   0.171  63.      0.   ]\n",
      " [  5.    121.     72.    ...   0.245  30.      0.   ]]\n"
     ]
    }
   ],
   "source": [
    "numeric_dataset = dataset.astype(float)\n",
    "\n",
    "# Tạo một mảng boolean với điều kiện\n",
    "condition = np.all(numeric_dataset[:, 1:8] != 0, axis=1)\n",
    "\n",
    "# Lọc dataset ban đầu dựa trên mảng boolean\n",
    "filtered_dataset = numeric_dataset[condition]\n",
    "\n",
    "print(filtered_dataset)"
   ]
  },
  {
   "cell_type": "code",
   "execution_count": 26,
   "id": "84421262",
   "metadata": {},
   "outputs": [],
   "source": [
    "trainingData = filtered_dataset[:274]\n",
    "testData = filtered_dataset[274:]"
   ]
  },
  {
   "cell_type": "code",
   "execution_count": 27,
   "id": "5b30f877",
   "metadata": {},
   "outputs": [
    {
     "name": "stdout",
     "output_type": "stream",
     "text": [
      "392\n"
     ]
    }
   ],
   "source": [
    "siez = len(filtered_dataset)\n",
    "print(siez)"
   ]
  },
  {
   "cell_type": "code",
   "execution_count": 28,
   "id": "06272695",
   "metadata": {},
   "outputs": [
    {
     "name": "stdout",
     "output_type": "stream",
     "text": [
      "118\n"
     ]
    }
   ],
   "source": [
    "data_size = len(testData)\n",
    "print(data_size)"
   ]
  },
  {
   "cell_type": "code",
   "execution_count": 31,
   "id": "254eeeff",
   "metadata": {},
   "outputs": [
    {
     "name": "stdout",
     "output_type": "stream",
     "text": [
      "TP = 27\n",
      "FN = 10\n",
      "FP = 13\n",
      "TN = 68\n",
      "Accuracy: 81.00%\n",
      "Precision: 67.50%\n",
      "Recall: 72.97%\n"
     ]
    }
   ],
   "source": [
    "k = 16\n",
    "TP = 0\n",
    "FN = 0\n",
    "FP = 0\n",
    "TN = 0\n",
    "\n",
    "for element in testData:\n",
    "    label = new_computeKNN(trainingData, element, k)\n",
    "    #print(\"True = \", element[-1], \"Predict = \", predict(label))\n",
    "\n",
    "    tp, fn, fp, tn = evaluate(int(element[-1]), new_predict(label))\n",
    "    TP += tp\n",
    "    FN += fn\n",
    "    FP += fp\n",
    "    TN += tn\n",
    "#print(data_size)\n",
    "print(\"TP =\", TP) # True Positive: người bị bệnh được dự đoán là bị bệnh\n",
    "print(\"FN =\", FN) # False Negative: người bị bệnh được dự đoán là không có bệnh\n",
    "print(\"FP =\", FP) # False Positive: người không bị bệnh được dự đoán là bị bệnh\n",
    "print(\"TN =\", TN) # True Negative: người không bị bệnh được dự đoán là không bị bệnh\n",
    "\n",
    "accuracy =round(float( (TP + TN)/data_size),2)\n",
    "precision = float(TP/(TP+FP)) # tính tỉ lệ số người thực sự bị bệnh trong những người được dự đoán bị bệnh\n",
    "recall = float(TP/(TP+FN)) #tính tỉ lệ dự đoán chính xác trong những người bị bệnh\n",
    "\n",
    "print(f\"Accuracy: {accuracy*100:.2f}%\")\n",
    "print(f\"Precision: {precision*100:.2f}%\")\n",
    "print(f\"Recall: {recall*100:.2f}%\")"
   ]
  },
  {
   "cell_type": "markdown",
   "id": "73242fe3",
   "metadata": {},
   "source": [
    "# Chuẩn hóa dữ liệu"
   ]
  },
  {
   "cell_type": "code",
   "execution_count": 32,
   "id": "2452a685",
   "metadata": {},
   "outputs": [
    {
     "name": "stdout",
     "output_type": "stream",
     "text": [
      "[ 17.   198.   110.    63.   846.    67.1    2.42  81.  ]\n",
      "[ 0.    56.    24.     7.    14.    18.2    0.085 21.   ]\n"
     ]
    }
   ],
   "source": [
    "# ko dc viet = dataset[0] do no se la 2 bien tham chieu den dataset[0]\n",
    "max_item = np.array(filtered_dataset[0][:8])\n",
    "min_item = np.array(filtered_dataset[0][:8])\n",
    "for item in filtered_dataset:\n",
    "    for i in range(8):\n",
    "            if item[i] > max_item[i]:\n",
    "                max_item[i] = item[i]\n",
    "            if item[i] < min_item[i]:\n",
    "                min_item[i] = item[i]\n",
    "print(max_item)\n",
    "print(min_item)\n",
    "max_item = max_item.astype(float)\n",
    "min_item = min_item.astype(float)"
   ]
  },
  {
   "cell_type": "code",
   "execution_count": 33,
   "id": "f58effcb",
   "metadata": {},
   "outputs": [],
   "source": [
    "for item in filtered_dataset:\n",
    "    for i in range(8):\n",
    "        item_value = float(item[i])\n",
    "        item[i] = float((item_value - min_item[i])/(max_item[i] - min_item[i]))"
   ]
  },
  {
   "cell_type": "code",
   "execution_count": 37,
   "id": "cd32772c",
   "metadata": {},
   "outputs": [
    {
     "name": "stdout",
     "output_type": "stream",
     "text": [
      "TP = 25\n",
      "FN = 12\n",
      "FP = 6\n",
      "TN = 75\n",
      "Accuracy: 85.00%\n",
      "Precision: 80.65%\n",
      "Recall: 67.57%\n"
     ]
    }
   ],
   "source": [
    "k = 15\n",
    "TP = 0\n",
    "FN = 0\n",
    "FP = 0\n",
    "TN = 0\n",
    "\n",
    "for element in testData:\n",
    "    label = new_computeKNN(trainingData, element, k)\n",
    "    #print(\"True = \", element[-1], \"Predict = \", predict(label))\n",
    "\n",
    "    tp, fn, fp, tn = evaluate(int(element[-1]), new_predict(label))\n",
    "    TP += tp\n",
    "    FN += fn\n",
    "    FP += fp\n",
    "    TN += tn\n",
    "#print(data_size)\n",
    "print(\"TP =\", TP) # True Positive: người bị bệnh được dự đoán là bị bệnh\n",
    "print(\"FN =\", FN) # False Negative: người bị bệnh được dự đoán là không có bệnh\n",
    "print(\"FP =\", FP) # False Positive: người không bị bệnh được dự đoán là bị bệnh\n",
    "print(\"TN =\", TN) # True Negative: người không bị bệnh được dự đoán là không bị bệnh\n",
    "\n",
    "accuracy =round(float( (TP + TN)/data_size),2)\n",
    "precision = float(TP/(TP+FP)) # tính tỉ lệ số người thực sự bị bệnh trong những người được dự đoán bị bệnh\n",
    "recall = float(TP/(TP+FN)) #tính tỉ lệ dự đoán chính xác trong những người bị bệnh\n",
    "\n",
    "print(f\"Accuracy: {accuracy*100:.2f}%\")\n",
    "print(f\"Precision: {precision*100:.2f}%\")\n",
    "print(f\"Recall: {recall*100:.2f}%\")"
   ]
  },
  {
   "cell_type": "markdown",
   "id": "d6644c64",
   "metadata": {},
   "source": [
    "# CODE LẠI HÀM MAIN THÀNH 1 FUNCTION ĐI KO CỨ MỖI LẦN CHẠY PHẢI COPY 1 ĐỐNG LẠI DÀI"
   ]
  },
  {
   "cell_type": "code",
   "execution_count": null,
   "id": "507c4047",
   "metadata": {},
   "outputs": [],
   "source": []
  }
 ],
 "metadata": {
  "kernelspec": {
   "display_name": "Python 3 (ipykernel)",
   "language": "python",
   "name": "python3"
  },
  "language_info": {
   "codemirror_mode": {
    "name": "ipython",
    "version": 3
   },
   "file_extension": ".py",
   "mimetype": "text/x-python",
   "name": "python",
   "nbconvert_exporter": "python",
   "pygments_lexer": "ipython3",
   "version": "3.11.4"
  }
 },
 "nbformat": 4,
 "nbformat_minor": 5
}
