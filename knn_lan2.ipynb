{
 "cells": [
  {
   "cell_type": "code",
   "execution_count": 1,
   "id": "b84a704f",
   "metadata": {},
   "outputs": [],
   "source": [
    "import csv\n",
    "import numpy as np\n",
    "import math\n",
    "import pandas as pd"
   ]
  },
  {
   "cell_type": "code",
   "execution_count": 2,
   "id": "f18dfb69",
   "metadata": {},
   "outputs": [],
   "source": [
    "file = open(\"diabetes.csv\", \"r\")\n",
    "dataset = csv.reader(file)#đọc dữ liệu đầu vào\n",
    "dataset = np.array(list(dataset))#chuyển về dạng ma trận\n",
    "dataset = np.delete(dataset,0,0)#xóa header\n",
    "file.close()\n",
    "#Phân chia tập dữ liệu về tập Test và tập Training\n",
    "dataset = dataset.astype(float)\n",
    "trainingData = dataset[:538]#Tập training bao gồm 500 bản ghi dữ liệu đầu tiên\n",
    "testData = dataset[538:]#Tập test bao gồm các bản ghi dữ liệu còn lại"
   ]
  },
  {
   "cell_type": "code",
   "execution_count": 3,
   "id": "a4894e73",
   "metadata": {},
   "outputs": [
    {
     "name": "stdout",
     "output_type": "stream",
     "text": [
      "     Pregnancies  Glucose  BloodPressure  SkinThickness  Insulin   BMI  \\\n",
      "0            6.0    148.0           72.0           35.0      0.0  33.6   \n",
      "1            1.0     85.0           66.0           29.0      0.0  26.6   \n",
      "2            8.0    183.0           64.0            0.0      0.0  23.3   \n",
      "3            1.0     89.0           66.0           23.0     94.0  28.1   \n",
      "4            0.0    137.0           40.0           35.0    168.0  43.1   \n",
      "..           ...      ...            ...            ...      ...   ...   \n",
      "533          6.0     91.0            0.0            0.0      0.0  29.8   \n",
      "534          1.0     77.0           56.0           30.0     56.0  33.3   \n",
      "535          4.0    132.0            0.0            0.0      0.0  32.9   \n",
      "536          0.0    105.0           90.0            0.0      0.0  29.6   \n",
      "537          0.0     57.0           60.0            0.0      0.0  21.7   \n",
      "\n",
      "     DiabetesPedigreeFunction   Age  Outcome  \n",
      "0                       0.627  50.0      1.0  \n",
      "1                       0.351  31.0      0.0  \n",
      "2                       0.672  32.0      1.0  \n",
      "3                       0.167  21.0      0.0  \n",
      "4                       2.288  33.0      1.0  \n",
      "..                        ...   ...      ...  \n",
      "533                     0.501  31.0      0.0  \n",
      "534                     1.251  24.0      0.0  \n",
      "535                     0.302  23.0      1.0  \n",
      "536                     0.197  46.0      0.0  \n",
      "537                     0.735  67.0      0.0  \n",
      "\n",
      "[538 rows x 9 columns]\n"
     ]
    }
   ],
   "source": [
    "print(pd.DataFrame(trainingData,columns=[\"Pregnancies\",\"Glucose\",\"BloodPressure\",\"SkinThickness\",\"Insulin\",\"BMI\",\"DiabetesPedigreeFunction\",\"Age\",\"Outcome\"]))"
   ]
  },
  {
   "cell_type": "code",
   "execution_count": 5,
   "id": "4a1f588f",
   "metadata": {},
   "outputs": [
    {
     "name": "stdout",
     "output_type": "stream",
     "text": [
      "[ 17.   199.   122.    99.   846.    67.1    2.42  81.  ]\n",
      "[ 0.     0.     0.     0.     0.     0.     0.078 21.   ]\n"
     ]
    }
   ],
   "source": [
    "# ko dc viet = dataset[0] do no se la 2 bien tham chieu den dataset[0]\n",
    "max_item = np.array(dataset[0][:8])\n",
    "min_item = np.array(dataset[0][:8])\n",
    "for item in dataset:\n",
    "    for i in range(8):\n",
    "            if item[i] > max_item[i]:\n",
    "                max_item[i] = item[i]\n",
    "            if item[i] < min_item[i]:\n",
    "                min_item[i] = item[i]\n",
    "print(max_item)\n",
    "print(min_item)\n",
    "max_item = max_item.astype(float)\n",
    "min_item = min_item.astype(float)"
   ]
  },
  {
   "cell_type": "code",
   "execution_count": 7,
   "id": "68eb12bb",
   "metadata": {},
   "outputs": [],
   "source": [
    "for item in dataset:\n",
    "    for i in range(8):\n",
    "        item_value = float(item[i])\n",
    "        if i == 1 and item_value < 100:\n",
    "            item[1] = 0\n",
    "        elif i == 1 and item_value > 180:\n",
    "            item[1] = 1\n",
    "        else:\n",
    "            item[i] = float((item_value - min_item[i])/(max_item[i] - min_item[i]))"
   ]
  },
  {
   "cell_type": "code",
   "execution_count": 8,
   "id": "f8238adc",
   "metadata": {},
   "outputs": [
    {
     "name": "stdout",
     "output_type": "stream",
     "text": [
      "[[0.35294118 0.74371859 0.59016393 ... 0.23441503 0.48333333 1.        ]\n",
      " [0.05882353 0.         0.54098361 ... 0.11656704 0.16666667 0.        ]\n",
      " [0.47058824 1.         0.52459016 ... 0.25362938 0.18333333 1.        ]\n",
      " ...\n",
      " [0.29411765 0.6080402  0.59016393 ... 0.07130658 0.15       0.        ]\n",
      " [0.05882353 0.63316583 0.49180328 ... 0.11571307 0.43333333 1.        ]\n",
      " [0.05882353 0.         0.57377049 ... 0.10119556 0.03333333 0.        ]]\n"
     ]
    }
   ],
   "source": [
    "print(dataset)"
   ]
  },
  {
   "cell_type": "code",
   "execution_count": 9,
   "id": "62ecbe07",
   "metadata": {},
   "outputs": [],
   "source": [
    "def computeDistance(data1,data2):\n",
    "  res = 0;\n",
    "  for i in range(8):\n",
    "    res += ( float(data1[i]) - float(data2[i])  )**2\n",
    "  return math.sqrt(res)\n"
   ]
  },
  {
   "cell_type": "code",
   "execution_count": 10,
   "id": "58d5da14",
   "metadata": {},
   "outputs": [],
   "source": [
    "def new_predict(label):\n",
    "  weight1 = 0\n",
    "  weight2 = 0\n",
    "  for element in label:\n",
    "    if int(element[\"label\"]) == 1:\n",
    "      weight1 += 1/float(element[\"dis\"])\n",
    "    else:\n",
    "      weight2 += 1/float(element[\"dis\"])\n",
    "  if weight1 > weight2: \n",
    "    return 1\n",
    "  else:\n",
    "    return 0"
   ]
  },
  {
   "cell_type": "code",
   "execution_count": 11,
   "id": "0e8e141d",
   "metadata": {},
   "outputs": [],
   "source": [
    "def new_computeKNN(trainingData,point,k):\n",
    "  distance = []\n",
    "  for data in trainingData:\n",
    "    #khai bao dictionary\n",
    "    label_distance = {\n",
    "        \"label\" : data[-1],\n",
    "        \"dis\": computeDistance(data,point)\n",
    "    }\n",
    "    distance.append(label_distance)\n",
    "  distance.sort(key = lambda x: x[\"dis\"])\n",
    "\n",
    "  return distance[:k]"
   ]
  },
  {
   "cell_type": "code",
   "execution_count": 12,
   "id": "dc0024e6",
   "metadata": {},
   "outputs": [],
   "source": [
    "def evaluate(x,y):\n",
    "    tp = 0\n",
    "    fn = 0\n",
    "    fp = 0\n",
    "    tn = 0\n",
    "    if (x==1 and y == 1):\n",
    "        tp = 1\n",
    "    elif (x == 1 and y == 0):\n",
    "        fn = 1\n",
    "    elif (y == 1):\n",
    "        fp = 1\n",
    "    else:\n",
    "        tn = 1\n",
    "    return [tp,fn,fp,tn]"
   ]
  },
  {
   "cell_type": "code",
   "execution_count": 14,
   "id": "b3adc44f",
   "metadata": {},
   "outputs": [
    {
     "name": "stdout",
     "output_type": "stream",
     "text": [
      "230\n"
     ]
    }
   ],
   "source": [
    "data_size = len(testData)\n",
    "print(data_size)"
   ]
  },
  {
   "cell_type": "code",
   "execution_count": 34,
   "id": "cd94395e",
   "metadata": {},
   "outputs": [
    {
     "name": "stdout",
     "output_type": "stream",
     "text": [
      "TP = 48\n",
      "FN = 31\n",
      "FP = 16\n",
      "TN = 135\n",
      "Accuracy: 80.00%\n",
      "Precision: 75.00%\n",
      "Recall: 60.76%\n"
     ]
    }
   ],
   "source": [
    "k = 24\n",
    "TP = 0\n",
    "FN = 0\n",
    "FP = 0\n",
    "TN = 0\n",
    "\n",
    "for element in testData:\n",
    "    if element[1] == 0:\n",
    "        predict_label = 0\n",
    "    elif element[1] == 1:\n",
    "        predict_label = 1\n",
    "    else:\n",
    "        label = new_computeKNN(trainingData, element, k)\n",
    "    #print(\"True = \", element[-1], \"Predict = \", predict(label))\n",
    "        predict_label = new_predict(label)\n",
    "    tp, fn, fp, tn = evaluate(int(element[-1]), predict_label)\n",
    "    TP += tp\n",
    "    FN += fn\n",
    "    FP += fp\n",
    "    TN += tn\n",
    "#print(data_size)\n",
    "print(\"TP =\", TP) # True Positive: người bị bệnh được dự đoán là bị bệnh\n",
    "print(\"FN =\", FN) # False Negative: người bị bệnh được dự đoán là không có bệnh\n",
    "print(\"FP =\", FP) # False Positive: người không bị bệnh được dự đoán là bị bệnh\n",
    "print(\"TN =\", TN) # True Negative: người không bị bệnh được dự đoán là không bị bệnh\n",
    "\n",
    "accuracy =round(float( (TP + TN)/data_size),2)\n",
    "precision = float(TP/(TP+FP)) # tính tỉ lệ số người thực sự bị bệnh trong những người được dự đoán bị bệnh\n",
    "recall = float(TP/(TP+FN)) #tính tỉ lệ dự đoán chính xác trong những người bị bệnh\n",
    "\n",
    "print(f\"Accuracy: {accuracy*100:.2f}%\")\n",
    "print(f\"Precision: {precision*100:.2f}%\")\n",
    "print(f\"Recall: {recall*100:.2f}%\")"
   ]
  },
  {
   "cell_type": "code",
   "execution_count": 29,
   "id": "c722bc02",
   "metadata": {},
   "outputs": [],
   "source": [
    "data_points = []\n",
    "maxa = 0\n",
    "ide = 0 \n",
    "for k in range(1,51):\n",
    "    TP = 0\n",
    "    FN = 0\n",
    "    FP = 0\n",
    "    TN = 0\n",
    "\n",
    "    for element in testData:\n",
    "        if element[1] == 0:\n",
    "            predict_label = 0\n",
    "        elif element[1] == 1:\n",
    "            predict_label = 1\n",
    "        else:\n",
    "            label = new_computeKNN(trainingData, element, k)\n",
    "    #print(\"True = \", element[-1], \"Predict = \", predict(label))\n",
    "            predict_label = new_predict(label)\n",
    "    tp, fn, fp, tn = evaluate(int(element[-1]), predict_label)\n",
    "    TP += tp\n",
    "    FN += fn\n",
    "    FP += fp\n",
    "    TN += tn\n",
    "    accuracy =round(float( (TP + TN)/data_size),2)\n",
    "    if accuracy > maxa:\n",
    "        maxa = accuracy\n",
    "        ide = k\n",
    "    data_points.append([k,accuracy])"
   ]
  },
  {
   "cell_type": "code",
   "execution_count": 30,
   "id": "8c13d8ab",
   "metadata": {},
   "outputs": [
    {
     "name": "stdout",
     "output_type": "stream",
     "text": [
      "0\n"
     ]
    }
   ],
   "source": [
    "print(maxa)"
   ]
  },
  {
   "cell_type": "code",
   "execution_count": 31,
   "id": "d0f625d8",
   "metadata": {},
   "outputs": [
    {
     "name": "stdout",
     "output_type": "stream",
     "text": [
      "0\n"
     ]
    }
   ],
   "source": [
    "print(ide)"
   ]
  },
  {
   "cell_type": "code",
   "execution_count": null,
   "id": "92fba09d",
   "metadata": {},
   "outputs": [],
   "source": []
  }
 ],
 "metadata": {
  "kernelspec": {
   "display_name": "Python 3 (ipykernel)",
   "language": "python",
   "name": "python3"
  },
  "language_info": {
   "codemirror_mode": {
    "name": "ipython",
    "version": 3
   },
   "file_extension": ".py",
   "mimetype": "text/x-python",
   "name": "python",
   "nbconvert_exporter": "python",
   "pygments_lexer": "ipython3",
   "version": "3.11.4"
  }
 },
 "nbformat": 4,
 "nbformat_minor": 5
}
